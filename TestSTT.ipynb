{
 "cells": [
  {
   "cell_type": "code",
   "execution_count": 1,
   "outputs": [],
   "source": [
    "from tkinter import *\n",
    "from pynput.keyboard import Controller\n",
    "import os\n",
    "import threading\n",
    "import speech_recognition as sr"
   ],
   "metadata": {
    "collapsed": false
   }
  },
  {
   "cell_type": "code",
   "execution_count": 9,
   "outputs": [],
   "source": [
    "def getRequest():\n",
    "    while True:\n",
    "        listener = sr.Recognizer()\n",
    "        voice_data = \"\"\n",
    "\n",
    "        with sr.Microphone() as raw_voice:\n",
    "\n",
    "            try:\n",
    "                print(\"Adjusting\")\n",
    "                listener.adjust_for_ambient_noise(raw_voice)\n",
    "\n",
    "                # adjust setting values\n",
    "                listener.dynamic_energy_adjustment_damping = 0.2\n",
    "                listener.pause_threshold = 0.6\n",
    "                listener.energy_threshold = 600\n",
    "\n",
    "\n",
    "                print(\"Say something!\")\n",
    "                audio = listener.listen(raw_voice)\n",
    "\n",
    "\n",
    "                voice_data = listener.recognize_google(audio, language='ko')\n",
    "                return voice_data\n",
    "                break\n",
    "\n",
    "            except UnboundLocalError:\n",
    "                pass\n",
    "\n",
    "            except sr.UnknownValueError:\n",
    "                print(\"could not understand audio\")"
   ],
   "metadata": {
    "collapsed": false
   }
  },
  {
   "cell_type": "code",
   "execution_count": 10,
   "outputs": [
    {
     "name": "stdout",
     "output_type": "stream",
     "text": [
      "Adjusting\n",
      "Say something!\n",
      "result2:\n",
      "{   'alternative': [   {'confidence': 0.5216558, 'transcript': 'MBC'},\n",
      "                       {'transcript': '몇 시'},\n",
      "                       {'transcript': '엠비씨'},\n",
      "                       {'transcript': '음식'}],\n",
      "    'final': True}\n",
      "=====================================\n",
      "MBC\n",
      "=====================================\n"
     ]
    }
   ],
   "source": [
    "getRequest()"
   ],
   "metadata": {
    "collapsed": false
   }
  },
  {
   "cell_type": "code",
   "execution_count": null,
   "outputs": [],
   "source": [],
   "metadata": {
    "collapsed": false
   }
  }
 ],
 "metadata": {
  "kernelspec": {
   "display_name": "Python 3",
   "language": "python",
   "name": "python3"
  },
  "language_info": {
   "codemirror_mode": {
    "name": "ipython",
    "version": 2
   },
   "file_extension": ".py",
   "mimetype": "text/x-python",
   "name": "python",
   "nbconvert_exporter": "python",
   "pygments_lexer": "ipython2",
   "version": "2.7.6"
  }
 },
 "nbformat": 4,
 "nbformat_minor": 0
}
